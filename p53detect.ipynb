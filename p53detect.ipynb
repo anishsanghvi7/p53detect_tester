{
 "cells": [
  {
   "cell_type": "code",
   "execution_count": null,
   "id": "51252a02-bb76-485a-a5f0-203038b36172",
   "metadata": {},
   "outputs": [],
   "source": [
    "# Importing the required libraries\n",
    "import pandas as pd\n",
    "import numpy as np\n",
    "import os\n",
    "from sklearn.model_selection import train_test_split, RandomizedSearchCV\n",
    "from sklearn.ensemble import RandomForestClassifier\n",
    "from sklearn.metrics import accuracy_score, balanced_accuracy_score, classification_report, precision_recall_curve\n",
    "from sklearn.metrics import PrecisionRecallDisplay, confusion_matrix, ConfusionMatrixDisplay, mean_squared_error, r2_score\n",
    "from sklearn.metrics import mean_absolute_error, median_absolute_error, explained_variance_score\n",
    "from sklearn.metrics import precision_score, recall_score, f1_score"
   ]
  },
  {
   "cell_type": "code",
   "execution_count": null,
   "id": "19e9b2e9-4207-4b20-93de-e29937df3f8b",
   "metadata": {},
   "outputs": [],
   "source": [
    "#############################\n",
    "#### Signature Database #####\n",
    "#############################\n",
    "folder_path = '../../../Downloads/new_sigs/'\n",
    "sig_data = pd.DataFrame()\n",
    "\n",
    "# Loop through all CSV files in the folder\n",
    "for filename in os.listdir(folder_path):\n",
    "    # Filter to match the pattern 'SBS96_catalogue.<sample_name>.hg19.tally.csv' -  only doing sbs first\n",
    "    if filename.startswith('SBS96_catalogue.') and filename.endswith('.hg19.tally.csv'):\n",
    "        file_path = os.path.join(folder_path, filename)\n",
    "        data = pd.read_csv(file_path, index_col=None)\n",
    "\n",
    "        # Extract the sample name from the filename (e.g., 'TCGA-CA-6717-01')\n",
    "        sample_name = filename.split('.')[1]\n",
    "        select_data = data.drop(columns=['type', 'count'])\n",
    "\n",
    "        # Pivot the DataFrame so that 'channel' becomes the columns\n",
    "        pivot_data = select_data.pivot_table(index=None, columns=\"channel\", values=\"fraction\").reset_index(drop=True)\n",
    "        pivot_data.insert(0, 'sample', sample_name)\n",
    "        sig_data = pd.concat([sig_data, pivot_data], ignore_index=True)\n",
    "\n",
    "# Add final column to data (empty) - maybe dont do it here??\n",
    "sig_data[\"p53 status\"] = \"\"\n",
    "\n",
    "# Display the final DataFrame or save it to a file\n",
    "print(\"\\n--------------------------\\n\")\n",
    "print(sig_data)\n",
    "print(\"\\n--------------------------\\n\")"
   ]
  },
  {
   "cell_type": "code",
   "execution_count": null,
   "id": "0279964d-e140-4229-8fd3-c77f9ced0e1e",
   "metadata": {},
   "outputs": [],
   "source": [
    "#############################\n",
    "######### MAF FILE ##########\n",
    "#############################\n",
    "maf_file_path = '../../../Downloads/October_2016_whitelist_2583.snv_mnv_indel.maf.xena.nonUS'\n",
    "maf_data = pd.read_csv(maf_file_path, sep='\\t', comment='#', low_memory=False)\n",
    "\n",
    "filtered_data = maf_data[(maf_data['start'] == maf_data['end']) & (maf_data['alt'] != '-')]\n",
    "filtered_data['HG19_Variant'] = 'chr17:g.' + \\\n",
    "                                (filtered_data['start'] - 1).astype(str) + \\\n",
    "                                filtered_data['reference'] + '>' + \\\n",
    "                                filtered_data['alt']\n",
    "\n",
    "maf_filtered = filtered_data[['Sample', 'HG19_Variant', 'gene', 'effect']]\n",
    "\n",
    "print(maf_filtered)\n",
    "print(\"\\n--------------------------\\n\")"
   ]
  },
  {
   "cell_type": "code",
   "execution_count": null,
   "id": "6f97c1bc-ad8c-44ea-961c-ee52a5283c09",
   "metadata": {},
   "outputs": [],
   "source": [
    "#############################\n",
    "####### TP53 Database #######\n",
    "#############################\n",
    "new_file_tester =  '../../../Downloads/UMD_variants_EU.xlsx'\n",
    "tester_data =  pd.read_excel(new_file_tester)\n",
    "\n",
    "pattern = r'^chr17:g\\.\\d+[A, C, G, T]>[A, C, G, T]$'\n",
    "tester_data_filtered = tester_data[tester_data['HG19_Variant'].str.contains(pattern, regex=True)]\n",
    "p53_db = tester_data_filtered[['HG19_Variant', 'COSMIC_ID', 'Pathogenicity', 'Final comment']]\n",
    "\n",
    "print(p53_db)\n",
    "print(\"\\n--------------------------\\n\")"
   ]
  },
  {
   "cell_type": "code",
   "execution_count": null,
   "id": "0ce17008-13c1-4458-b4f7-bd22c44ea2e7",
   "metadata": {},
   "outputs": [],
   "source": [
    "#############################\n",
    "###### Join Dataframes ######\n",
    "#############################\n",
    "merged_data = pd.merge(maf_filtered, p53_db[['HG19_Variant', 'COSMIC_ID', 'Pathogenicity', 'Final comment']], \n",
    "                       on='HG19_Variant', how='left')\n",
    "merged_data.fillna({ 'Pathogenicity' : 'Unknown' }, inplace=True)\n",
    "merged_data.fillna({ 'Final comment' : 'No Comment' }, inplace=True)\n",
    "\n",
    "pathogenicity_mapping = {\n",
    "    'Pathogenic': 1,\n",
    "    'Likely Pathogenic': 0.75,\n",
    "    'Possibly pathogenic': 0.5,\n",
    "    'VUS': 0.25,\n",
    "    'Benign': 0,\n",
    "    'Unknown': -1,\n",
    "}\n",
    "\n",
    "merged_data['Pathogenicity Score'] = merged_data['Pathogenicity'].map(pathogenicity_mapping)\n",
    "formatted_merged = merged_data[['HG19_Variant', 'gene', 'effect', 'Pathogenicity', 'Final comment', 'Pathogenicity Score']]\n",
    "\n",
    "print(formatted_merged[(formatted_merged['Pathogenicity Score'] != -1.0) & (formatted_merged['gene'] == 'TP53')])\n",
    "print(\"\\n--------------------------\\n\")"
   ]
  },
  {
   "cell_type": "code",
   "execution_count": null,
   "id": "bc870316-51a5-426f-8f89-b93624a670dc",
   "metadata": {},
   "outputs": [],
   "source": [
    "##############################\n",
    "###### Machine Learning ######\n",
    "##############################"
   ]
  }
 ],
 "metadata": {
  "kernelspec": {
   "display_name": "Python 3 (ipykernel)",
   "language": "python",
   "name": "python3"
  },
  "language_info": {
   "codemirror_mode": {
    "name": "ipython",
    "version": 3
   },
   "file_extension": ".py",
   "mimetype": "text/x-python",
   "name": "python",
   "nbconvert_exporter": "python",
   "pygments_lexer": "ipython3",
   "version": "3.12.6"
  }
 },
 "nbformat": 4,
 "nbformat_minor": 5
}
