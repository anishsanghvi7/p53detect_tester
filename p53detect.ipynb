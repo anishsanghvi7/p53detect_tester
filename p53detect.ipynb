{
 "cells": [
  {
   "cell_type": "code",
   "execution_count": 1,
   "id": "51252a02-bb76-485a-a5f0-203038b36172",
   "metadata": {},
   "outputs": [],
   "source": [
    "# Importing the required libraries\n",
    "import pandas as pd\n",
    "import numpy as np\n",
    "import os\n",
    "from sklearn.model_selection import train_test_split, RandomizedSearchCV\n",
    "from sklearn.ensemble import RandomForestClassifier\n",
    "from sklearn.metrics import accuracy_score, balanced_accuracy_score, classification_report, precision_recall_curve\n",
    "from sklearn.metrics import PrecisionRecallDisplay, confusion_matrix, ConfusionMatrixDisplay, mean_squared_error, r2_score\n",
    "from sklearn.metrics import mean_absolute_error, median_absolute_error, explained_variance_score\n",
    "from sklearn.metrics import precision_score, recall_score, f1_score"
   ]
  },
  {
   "cell_type": "code",
   "execution_count": 2,
   "id": "19e9b2e9-4207-4b20-93de-e29937df3f8b",
   "metadata": {},
   "outputs": [
    {
     "name": "stdout",
     "output_type": "stream",
     "text": [
      "\n",
      "--------------------------\n",
      "\n",
      "channel           sample   A[C>A]A   A[C>A]C   A[C>A]G  A[C>A]T   A[C>G]A  \\\n",
      "0        TCGA-A2-A0T5-01  0.000000  0.000000  0.000000  0.00000  0.000000   \n",
      "1        TCGA-CF-A9FF-01  0.000000  0.010811  0.010811  0.00000  0.000000   \n",
      "2        TCGA-CA-6717-01  0.000848  0.001774  0.000309  0.01049  0.000848   \n",
      "\n",
      "channel   A[C>G]C   A[C>G]G  A[C>G]T   A[C>T]A  ...   T[T>A]T   T[T>C]A  \\\n",
      "0        0.000000  0.000000  0.00000  0.000000  ...  0.000000  0.000000   \n",
      "1        0.000000  0.010811  0.00000  0.010811  ...  0.000000  0.005405   \n",
      "2        0.000848  0.000000  0.00054  0.001465  ...  0.002854  0.006788   \n",
      "\n",
      "channel   T[T>C]C   T[T>C]G   T[T>C]T   T[T>G]A   T[T>G]C  T[T>G]G   T[T>G]T  \\\n",
      "0        0.000000  0.000000  0.000000  0.000000  0.000000   0.0000  0.000000   \n",
      "1        0.000000  0.000000  0.000000  0.000000  0.000000   0.0000  0.005405   \n",
      "2        0.017123  0.009873  0.017663  0.007636  0.009873   0.0027  0.082298   \n",
      "\n",
      "channel  p53 status  \n",
      "0                    \n",
      "1                    \n",
      "2                    \n",
      "\n",
      "[3 rows x 98 columns]\n",
      "\n",
      "--------------------------\n",
      "\n"
     ]
    }
   ],
   "source": [
    "#############################\n",
    "#### Signature Database #####\n",
    "#############################\n",
    "folder_path = '../../../Downloads/new_sigs/'\n",
    "sig_data = pd.DataFrame()\n",
    "\n",
    "# Loop through all CSV files in the folder\n",
    "for filename in os.listdir(folder_path):\n",
    "    # Filter to match the pattern 'SBS96_catalogue.<sample_name>.hg19.tally.csv' -  only doing sbs first\n",
    "    if filename.startswith('SBS96_catalogue.') and filename.endswith('.hg19.tally.csv'):\n",
    "        file_path = os.path.join(folder_path, filename)\n",
    "        data = pd.read_csv(file_path, index_col=None)\n",
    "\n",
    "        # Extract the sample name from the filename (e.g., 'TCGA-CA-6717-01')\n",
    "        sample_name = filename.split('.')[1]\n",
    "        select_data = data.drop(columns=['type', 'count'])\n",
    "\n",
    "        # Pivot the DataFrame so that 'channel' becomes the columns\n",
    "        pivot_data = select_data.pivot_table(index=None, columns=\"channel\", values=\"fraction\").reset_index(drop=True)\n",
    "        pivot_data.insert(0, 'sample', sample_name)\n",
    "        sig_data = pd.concat([sig_data, pivot_data], ignore_index=True)\n",
    "\n",
    "# Add final column to data (empty) - maybe dont do it here??\n",
    "sig_data[\"p53 status\"] = \"\"\n",
    "\n",
    "# Display the final DataFrame or save it to a file\n",
    "print(\"\\n--------------------------\\n\")\n",
    "print(sig_data)\n",
    "print(\"\\n--------------------------\\n\")"
   ]
  },
  {
   "cell_type": "code",
   "execution_count": 3,
   "id": "0279964d-e140-4229-8fd3-c77f9ced0e1e",
   "metadata": {},
   "outputs": [
    {
     "name": "stderr",
     "output_type": "stream",
     "text": [
      "/var/folders/pr/sxpxd22s7jj41b9d9c6lk5yc0000gp/T/ipykernel_92834/4045642003.py:8: SettingWithCopyWarning: \n",
      "A value is trying to be set on a copy of a slice from a DataFrame.\n",
      "Try using .loc[row_indexer,col_indexer] = value instead\n",
      "\n",
      "See the caveats in the documentation: https://pandas.pydata.org/pandas-docs/stable/user_guide/indexing.html#returning-a-view-versus-a-copy\n",
      "  filtered_data['HG19_Variant'] = 'chr17:g.' + \\\n"
     ]
    },
    {
     "name": "stdout",
     "output_type": "stream",
     "text": [
      "           Sample          HG19_Variant      gene             effect\n",
      "0         DO46416    chr17:g.1230447G>A     ACAP3             Intron\n",
      "1         DO46416    chr17:g.1609722C>T  SLC35E2B             Intron\n",
      "2         DO46416    chr17:g.1903275C>T   Unknown                IGR\n",
      "3         DO46416    chr17:g.2574998C>T     TTC34             Intron\n",
      "4         DO46416    chr17:g.3151249G>A    PRDM16             Intron\n",
      "...           ...                   ...       ...                ...\n",
      "21980512  DO51503  chr17:g.150611902G>A   Unknown                IGR\n",
      "21980513  DO51503  chr17:g.151231465T>C   Unknown                IGR\n",
      "21980514  DO51503  chr17:g.151815421C>T     GABRQ  Missense_Mutation\n",
      "21980515  DO51503  chr17:g.152000524T>C     NSDHL             Intron\n",
      "21980516  DO51503  chr17:g.152538786G>A   Unknown                IGR\n",
      "\n",
      "[20621575 rows x 4 columns]\n",
      "\n",
      "--------------------------\n",
      "\n"
     ]
    }
   ],
   "source": [
    "#############################\n",
    "######### MAF FILE ##########\n",
    "#############################\n",
    "maf_file_path = '../../../Downloads/October_2016_whitelist_2583.snv_mnv_indel.maf.xena.nonUS'\n",
    "maf_data = pd.read_csv(maf_file_path, sep='\\t', comment='#', low_memory=False)\n",
    "\n",
    "filtered_data = maf_data[(maf_data['start'] == maf_data['end']) & (maf_data['alt'] != '-')]\n",
    "filtered_data['HG19_Variant'] = 'chr17:g.' + \\\n",
    "                                (filtered_data['start'] - 1).astype(str) + \\\n",
    "                                filtered_data['reference'] + '>' + \\\n",
    "                                filtered_data['alt']\n",
    "\n",
    "maf_filtered = filtered_data[['Sample', 'HG19_Variant', 'gene', 'effect']]\n",
    "\n",
    "print(maf_filtered)\n",
    "print(\"\\n--------------------------\\n\")"
   ]
  },
  {
   "cell_type": "code",
   "execution_count": 4,
   "id": "6f97c1bc-ad8c-44ea-961c-ee52a5283c09",
   "metadata": {},
   "outputs": [
    {
     "name": "stdout",
     "output_type": "stream",
     "text": [
      "            HG19_Variant    COSMIC_ID        Pathogenicity  \\\n",
      "0     chr17:g.7578406G>A    COSM10648           Pathogenic   \n",
      "1     chr17:g.7577538G>A    COSM10662           Pathogenic   \n",
      "2     chr17:g.7577120G>A    COSM10660           Pathogenic   \n",
      "3     chr17:g.7577121C>T    COSM10659           Pathogenic   \n",
      "4     chr17:g.7577539C>T    COSM10656           Pathogenic   \n",
      "...                  ...          ...                  ...   \n",
      "6857  chr17:g.7574040G>A          NaN               Benign   \n",
      "6859  chr17:g.7574041T>A  COSM3773295               Benign   \n",
      "6862  chr17:g.7574032T>C          NaN  Possibly pathogenic   \n",
      "6863  chr17:g.7574031C>G          NaN                  VUS   \n",
      "6867  chr17:g.7574029G>C  COSM4749449                  VUS   \n",
      "\n",
      "                                          Final comment  \n",
      "0     Published research as well as database analysi...  \n",
      "1     Published research as well as database analysi...  \n",
      "2     Published research as well as database analysi...  \n",
      "3     Published research as well as database analysi...  \n",
      "4     Published research as well as database analysi...  \n",
      "...                                                 ...  \n",
      "6857  Multiple lines of computational evidence sugge...  \n",
      "6859  Multiple lines of computational evidence sugge...  \n",
      "6862  Published research and database analysis do no...  \n",
      "6863  Published research and database analysis do no...  \n",
      "6867  Published research and database analysis do no...  \n",
      "\n",
      "[2595 rows x 4 columns]\n",
      "\n",
      "--------------------------\n",
      "\n"
     ]
    },
    {
     "name": "stderr",
     "output_type": "stream",
     "text": [
      "/Users/asanghvi/Desktop/ML/ML_practice/.venv/lib/python3.12/site-packages/openpyxl/worksheet/_reader.py:329: UserWarning: Unknown extension is not supported and will be removed\n",
      "  warn(msg)\n"
     ]
    }
   ],
   "source": [
    "#############################\n",
    "####### TP53 Database #######\n",
    "#############################\n",
    "new_file_tester =  '../../../Downloads/UMD_variants_EU.xlsx'\n",
    "tester_data =  pd.read_excel(new_file_tester)\n",
    "\n",
    "pattern = r'^chr17:g\\.\\d+[A, C, G, T]>[A, C, G, T]$'\n",
    "tester_data_filtered = tester_data[tester_data['HG19_Variant'].str.contains(pattern, regex=True)]\n",
    "p53_db = tester_data_filtered[['HG19_Variant', 'COSMIC_ID', 'Pathogenicity', 'Final comment']]\n",
    "\n",
    "print(p53_db)\n",
    "print(\"\\n--------------------------\\n\")"
   ]
  },
  {
   "cell_type": "code",
   "execution_count": 5,
   "id": "0ce17008-13c1-4458-b4f7-bd22c44ea2e7",
   "metadata": {},
   "outputs": [
    {
     "name": "stdout",
     "output_type": "stream",
     "text": [
      "                HG19_Variant  gene             effect        Pathogenicity  \\\n",
      "128974    chr17:g.7577546C>T  TP53  Missense_Mutation                  VUS   \n",
      "142812    chr17:g.7577555C>A  TP53  Missense_Mutation           Pathogenic   \n",
      "192463    chr17:g.7577093G>A  TP53  Missense_Mutation  Possibly pathogenic   \n",
      "260865    chr17:g.7578265T>A  TP53  Missense_Mutation    Likely Pathogenic   \n",
      "441994    chr17:g.7577093G>A  TP53  Missense_Mutation  Possibly pathogenic   \n",
      "...                      ...   ...                ...                  ...   \n",
      "20327269  chr17:g.7578393T>C  TP53  Missense_Mutation               Benign   \n",
      "20345243  chr17:g.7574017G>A  TP53  Missense_Mutation  Possibly pathogenic   \n",
      "20389252  chr17:g.7578405C>T  TP53  Missense_Mutation               Benign   \n",
      "20399949  chr17:g.7578211G>A  TP53  Nonsense_Mutation           Pathogenic   \n",
      "20491625  chr17:g.7578507C>T  TP53  Missense_Mutation                  VUS   \n",
      "\n",
      "                                              Final comment  \\\n",
      "128974    Published research and database analysis do no...   \n",
      "142812    Nonsense mutations, deletions or insertions (i...   \n",
      "192463    Published research and database analysis do no...   \n",
      "260865    Multiple lines of computational evidence suppo...   \n",
      "441994    Published research and database analysis do no...   \n",
      "...                                                     ...   \n",
      "20327269  Multiple lines of computational evidence sugge...   \n",
      "20345243  Published research and database analysis do no...   \n",
      "20389252  Multiple lines of computational evidence sugge...   \n",
      "20399949  Published research as well as database analysi...   \n",
      "20491625  Published research and database analysis do no...   \n",
      "\n",
      "          Pathogenicity Score  \n",
      "128974                   0.25  \n",
      "142812                   1.00  \n",
      "192463                   0.50  \n",
      "260865                   0.75  \n",
      "441994                   0.50  \n",
      "...                       ...  \n",
      "20327269                 0.00  \n",
      "20345243                 0.50  \n",
      "20389252                 0.00  \n",
      "20399949                 1.00  \n",
      "20491625                 0.25  \n",
      "\n",
      "[176 rows x 6 columns]\n",
      "\n",
      "--------------------------\n",
      "\n"
     ]
    }
   ],
   "source": [
    "#############################\n",
    "###### Join Dataframes ######\n",
    "#############################\n",
    "merged_data = pd.merge(maf_filtered, p53_db[['HG19_Variant', 'COSMIC_ID', 'Pathogenicity', 'Final comment']], \n",
    "                       on='HG19_Variant', how='left')\n",
    "merged_data.fillna({ 'Pathogenicity' : 'Unknown' }, inplace=True)\n",
    "merged_data.fillna({ 'Final comment' : 'No Comment' }, inplace=True)\n",
    "\n",
    "pathogenicity_mapping = {\n",
    "    'Pathogenic': 1,\n",
    "    'Likely Pathogenic': 0.75,\n",
    "    'Possibly pathogenic': 0.5,\n",
    "    'VUS': 0.25,\n",
    "    'Benign': 0,\n",
    "    'Unknown': -1,\n",
    "}\n",
    "\n",
    "merged_data['Pathogenicity Score'] = merged_data['Pathogenicity'].map(pathogenicity_mapping)\n",
    "formatted_merged = merged_data[['HG19_Variant', 'gene', 'effect', 'Pathogenicity', 'Final comment', 'Pathogenicity Score']]\n",
    "\n",
    "print(formatted_merged[(formatted_merged['Pathogenicity Score'] != -1.0) & (formatted_merged['gene'] == 'TP53')])\n",
    "print(\"\\n--------------------------\\n\")"
   ]
  },
  {
   "cell_type": "code",
   "execution_count": null,
   "id": "bc870316-51a5-426f-8f89-b93624a670dc",
   "metadata": {},
   "outputs": [],
   "source": [
    "##############################\n",
    "###### Machine Learning ######\n",
    "##############################"
   ]
  }
 ],
 "metadata": {
  "kernelspec": {
   "display_name": "Python 3 (ipykernel)",
   "language": "python",
   "name": "python3"
  },
  "language_info": {
   "codemirror_mode": {
    "name": "ipython",
    "version": 3
   },
   "file_extension": ".py",
   "mimetype": "text/x-python",
   "name": "python",
   "nbconvert_exporter": "python",
   "pygments_lexer": "ipython3",
   "version": "3.12.6"
  }
 },
 "nbformat": 4,
 "nbformat_minor": 5
}
