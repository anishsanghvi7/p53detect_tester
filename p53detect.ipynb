{
 "cells": [
  {
   "cell_type": "code",
   "execution_count": 1,
   "id": "51252a02-bb76-485a-a5f0-203038b36172",
   "metadata": {},
   "outputs": [],
   "source": [
    "# Importing the required libraries\n",
    "import pandas as pd\n",
    "import numpy as np\n",
    "import os\n",
    "from sklearn.model_selection import train_test_split, RandomizedSearchCV\n",
    "from sklearn.ensemble import RandomForestClassifier\n",
    "from sklearn.metrics import accuracy_score, balanced_accuracy_score, classification_report, precision_recall_curve\n",
    "from sklearn.metrics import PrecisionRecallDisplay, confusion_matrix, ConfusionMatrixDisplay, mean_squared_error, r2_score\n",
    "from sklearn.metrics import mean_absolute_error, median_absolute_error, explained_variance_score\n",
    "from sklearn.metrics import precision_score, recall_score, f1_score"
   ]
  },
  {
   "cell_type": "code",
   "execution_count": null,
   "id": "b90802bc-ea19-49dc-9fab-861542abb82b",
   "metadata": {},
   "outputs": [],
   "source": [
    "Mutational Signature Dataset - Tally file"
   ]
  },
  {
   "cell_type": "code",
   "execution_count": 2,
   "id": "19e9b2e9-4207-4b20-93de-e29937df3f8b",
   "metadata": {
    "scrolled": true
   },
   "outputs": [],
   "source": [
    "#############################\n",
    "#### Signature Database #####\n",
    "#############################\n",
    "folder_path = '../../../Downloads/new_sigs/'\n",
    "sig_data = pd.DataFrame()\n",
    "\n",
    "# Loop through all CSV files in the folder\n",
    "for filename in os.listdir(folder_path):\n",
    "    # Filter to match the pattern 'SBS96_catalogue.<sample_name>.hg19.tally.csv' -  only doing sbs first\n",
    "    if filename.startswith('SBS96_catalogue.') and filename.endswith('.hg19.tally.csv'):\n",
    "        file_path = os.path.join(folder_path, filename)\n",
    "        data = pd.read_csv(file_path, index_col=None)\n",
    "\n",
    "        # Extract the sample name from the filename (e.g., 'TCGA-CA-6717-01')\n",
    "        sample_name = filename.split('.')[1]\n",
    "        select_data = data.drop(columns=['type', 'count'])\n",
    "\n",
    "        # Pivot the DataFrame so that 'channel' becomes the columns\n",
    "        pivot_data = select_data.pivot_table(index=None, columns=\"channel\", values=\"fraction\").reset_index(drop=True)\n",
    "        pivot_data.insert(0, 'Sample', sample_name)\n",
    "        sig_data = pd.concat([sig_data, pivot_data], ignore_index=True)\n",
    "\n",
    "# Add final column to data (empty) - maybe dont do it here??\n",
    "sig_data[\"p53 status\"] = \"\""
   ]
  },
  {
   "cell_type": "markdown",
   "id": "482b7630-7898-4f6e-90cf-2230a084cd7d",
   "metadata": {},
   "source": [
    "MAF File: https://xenabrowser.net/datapages/?dataset=October_2016_whitelist_2583.snv_mnv_indel.maf.xena.nonUS&host=https%3A%2F%2Fpcawg.xenahubs.net&removeHub=https%3A%2F%2Fxena.treehouse.gi.ucsc.edu%3A443"
   ]
  },
  {
   "cell_type": "code",
   "execution_count": 3,
   "id": "0279964d-e140-4229-8fd3-c77f9ced0e1e",
   "metadata": {},
   "outputs": [
    {
     "name": "stderr",
     "output_type": "stream",
     "text": [
      "/var/folders/pr/sxpxd22s7jj41b9d9c6lk5yc0000gp/T/ipykernel_45048/2550448791.py:8: SettingWithCopyWarning: \n",
      "A value is trying to be set on a copy of a slice from a DataFrame.\n",
      "Try using .loc[row_indexer,col_indexer] = value instead\n",
      "\n",
      "See the caveats in the documentation: https://pandas.pydata.org/pandas-docs/stable/user_guide/indexing.html#returning-a-view-versus-a-copy\n",
      "  filtered_data['HG19_Variant'] = 'chr17:g.' + \\\n"
     ]
    }
   ],
   "source": [
    "#############################\n",
    "######### MAF FILE ##########\n",
    "#############################\n",
    "maf_file_path = '../../../Downloads/October_2016_whitelist_2583.snv_mnv_indel.maf.xena.nonUS'\n",
    "maf_data = pd.read_csv(maf_file_path, sep='\\t', comment='#', low_memory=False)\n",
    "\n",
    "filtered_data = maf_data[(maf_data['start'] == maf_data['end']) & (maf_data['alt'] != '-')]\n",
    "filtered_data['HG19_Variant'] = 'chr17:g.' + \\\n",
    "                                (filtered_data['start'] - 1).astype(str) + \\\n",
    "                                filtered_data['reference'] + '>' + \\\n",
    "                                filtered_data['alt']\n",
    "\n",
    "maf_filtered = filtered_data[['Sample', 'HG19_Variant', 'gene', 'effect']]"
   ]
  },
  {
   "cell_type": "markdown",
   "id": "180e1bc0-7f87-40ad-aafc-9cc49493eedf",
   "metadata": {},
   "source": [
    "Dataset: Download at https://p53.fr/download-the-database - Using .xlsx EU Variants"
   ]
  },
  {
   "cell_type": "code",
   "execution_count": 4,
   "id": "6f97c1bc-ad8c-44ea-961c-ee52a5283c09",
   "metadata": {},
   "outputs": [
    {
     "name": "stderr",
     "output_type": "stream",
     "text": [
      "/Users/asanghvi/Desktop/ML/ML_practice/.venv/lib/python3.12/site-packages/openpyxl/worksheet/_reader.py:329: UserWarning: Unknown extension is not supported and will be removed\n",
      "  warn(msg)\n",
      "/var/folders/pr/sxpxd22s7jj41b9d9c6lk5yc0000gp/T/ipykernel_45048/465436135.py:9: SettingWithCopyWarning: \n",
      "A value is trying to be set on a copy of a slice from a DataFrame.\n",
      "Try using .loc[row_indexer,col_indexer] = value instead\n",
      "\n",
      "See the caveats in the documentation: https://pandas.pydata.org/pandas-docs/stable/user_guide/indexing.html#returning-a-view-versus-a-copy\n",
      "  tester_data_filtered['type'] = tester_data_filtered['Mutational_event']\n"
     ]
    }
   ],
   "source": [
    "#############################\n",
    "####### TP53 Database #######\n",
    "#############################\n",
    "new_file_tester =  '../../../Downloads/UMD_variants_EU.xlsx'\n",
    "tester_data =  pd.read_excel(new_file_tester)\n",
    "\n",
    "pattern = r'^chr17:g\\.\\d+[A, C, G, T]>[A, C, G, T]$'\n",
    "tester_data_filtered = tester_data[tester_data['HG19_Variant'].str.contains(pattern, regex=True)]\n",
    "tester_data_filtered['type'] = tester_data_filtered['Mutational_event']"
   ]
  },
  {
   "cell_type": "code",
   "execution_count": 5,
   "id": "a7de7f5b-8cf3-4317-9bfe-573a52c2be80",
   "metadata": {},
   "outputs": [],
   "source": [
    "p53_db = tester_data_filtered[['HG19_Variant', 'Pathogenicity', 'Final comment']]"
   ]
  },
  {
   "cell_type": "code",
   "execution_count": 6,
   "id": "0ce17008-13c1-4458-b4f7-bd22c44ea2e7",
   "metadata": {},
   "outputs": [],
   "source": [
    "#############################\n",
    "###### Join Dataframes ######\n",
    "#############################\n",
    "merged_data = pd.merge(maf_filtered, p53_db[['HG19_Variant', 'Pathogenicity', 'Final comment']], \n",
    "                       on='HG19_Variant', how='left')\n",
    "merged_data.fillna({ 'Pathogenicity' : 'Unknown' }, inplace=True)\n",
    "merged_data.fillna({ 'Final comment' : 'No Comment' }, inplace=True)"
   ]
  },
  {
   "cell_type": "code",
   "execution_count": 35,
   "id": "8daf0a40-a276-40b7-a28a-4dd7d8ad586f",
   "metadata": {
    "scrolled": true
   },
   "outputs": [],
   "source": [
    "def find_tp53_genes(df):\n",
    "    rows = df[df['gene'] == 'TP53']\n",
    "    return rows\n",
    "\n",
    "def assign_pathogenicity_status(df):\n",
    "    pathogenic_rows = df[df['Pathogenicity'].isin(['Pathogenic', 'Likely Pathogenic'])]\n",
    "    return pathogenic_rows\n",
    "\n",
    "all_tp53_genes = find_tp53_genes(merged_data)                    \n",
    "pathogenic_tp53 = assign_pathogenicity_status(all_tp53_genes[['HG19_Variant', 'Pathogenicity']])"
   ]
  },
  {
   "cell_type": "code",
   "execution_count": 39,
   "id": "ac6ad529-d1aa-4145-abdf-ab6cc76cabad",
   "metadata": {
    "scrolled": true
   },
   "outputs": [
    {
     "name": "stdout",
     "output_type": "stream",
     "text": [
      "\n",
      "--------------------------\n",
      "\n",
      "                HG19_Variant Pathogenicity\n",
      "4925      chr17:g.7577057C>A       Unknown\n",
      "45681     chr17:g.7577559A>G       Unknown\n",
      "92006     chr17:g.7578554C>T       Unknown\n",
      "128974    chr17:g.7577546C>T           VUS\n",
      "142812    chr17:g.7577555C>A    Pathogenic\n",
      "...                      ...           ...\n",
      "20549255  chr17:g.7578554C>T       Unknown\n",
      "20595734  chr17:g.7577547C>T       Unknown\n",
      "20605153  chr17:g.7584138G>A       Unknown\n",
      "20612527  chr17:g.7578280G>A       Unknown\n",
      "20619304  chr17:g.7577134T>A       Unknown\n",
      "\n",
      "[569 rows x 2 columns]\n",
      "\n",
      "--------------------------\n",
      "\n",
      "                HG19_Variant      Pathogenicity\n",
      "142812    chr17:g.7577555C>A         Pathogenic\n",
      "260865    chr17:g.7578265T>A  Likely Pathogenic\n",
      "1091836   chr17:g.7578211G>A         Pathogenic\n",
      "1707413   chr17:g.7577538G>A         Pathogenic\n",
      "2022113   chr17:g.7578211G>A         Pathogenic\n",
      "2093424   chr17:g.7578211G>A         Pathogenic\n",
      "2492096   chr17:g.7578211G>A         Pathogenic\n",
      "2698036   chr17:g.7578402C>A         Pathogenic\n",
      "2734137   chr17:g.7577120G>A         Pathogenic\n",
      "3674895   chr17:g.7577120G>A         Pathogenic\n",
      "4588471   chr17:g.7577538G>A         Pathogenic\n",
      "4592781   chr17:g.7577120G>A         Pathogenic\n",
      "4663387   chr17:g.7577120G>A         Pathogenic\n",
      "4820395   chr17:g.7578211G>A         Pathogenic\n",
      "4833776   chr17:g.7578211G>A         Pathogenic\n",
      "5041063   chr17:g.7577580A>G         Pathogenic\n",
      "5148578   chr17:g.7577538G>A         Pathogenic\n",
      "5171797   chr17:g.7578525C>A         Pathogenic\n",
      "5736685   chr17:g.7577538G>A         Pathogenic\n",
      "5825126   chr17:g.7577120G>A         Pathogenic\n",
      "5998045   chr17:g.7577538G>A         Pathogenic\n",
      "6050840   chr17:g.7578211G>A         Pathogenic\n",
      "6226259   chr17:g.7578265T>A  Likely Pathogenic\n",
      "6610779   chr17:g.7577538G>A         Pathogenic\n",
      "6829069   chr17:g.7578402C>A         Pathogenic\n",
      "8139955   chr17:g.7578211G>A         Pathogenic\n",
      "8859552   chr17:g.7577120G>A         Pathogenic\n",
      "9354606   chr17:g.7578211G>A         Pathogenic\n",
      "9761446   chr17:g.7577538G>A         Pathogenic\n",
      "10035168  chr17:g.7577120G>A         Pathogenic\n",
      "10316097  chr17:g.7577120G>A         Pathogenic\n",
      "10516402  chr17:g.7577120G>A         Pathogenic\n",
      "11449937  chr17:g.7577555C>A         Pathogenic\n",
      "11824862  chr17:g.7577120G>A         Pathogenic\n",
      "12263826  chr17:g.7577120G>A         Pathogenic\n",
      "12305812  chr17:g.7578525C>A         Pathogenic\n",
      "12586495  chr17:g.7578235A>G         Pathogenic\n",
      "13937751  chr17:g.7577574A>G         Pathogenic\n",
      "14670898  chr17:g.7577120G>A         Pathogenic\n",
      "14798439  chr17:g.7577120G>A         Pathogenic\n",
      "14892867  chr17:g.7578234T>G         Pathogenic\n",
      "16179865  chr17:g.7577538G>A         Pathogenic\n",
      "16243165  chr17:g.7578211G>A         Pathogenic\n",
      "16416410  chr17:g.7578211G>A         Pathogenic\n",
      "17826368  chr17:g.7577538G>A         Pathogenic\n",
      "18309680  chr17:g.7578402C>A         Pathogenic\n",
      "18769695  chr17:g.7578211G>A         Pathogenic\n",
      "18872174  chr17:g.7577538G>A         Pathogenic\n",
      "18901779  chr17:g.7578211G>A         Pathogenic\n",
      "19511442  chr17:g.7577538G>A         Pathogenic\n",
      "19849392  chr17:g.7578211G>A         Pathogenic\n",
      "19865194  chr17:g.7578525C>A         Pathogenic\n",
      "20227291  chr17:g.7578265T>A  Likely Pathogenic\n",
      "20305820  chr17:g.7577580A>G         Pathogenic\n",
      "20399949  chr17:g.7578211G>A         Pathogenic\n",
      "\n",
      "--------------------------\n",
      "\n"
     ]
    }
   ],
   "source": [
    "all_tp53_pathogenicity = all_tp53_genes[['HG19_Variant', 'Pathogenicity']]\n",
    "\n",
    "print(\"\\n--------------------------\\n\")\n",
    "print(all_tp53_pathogenicity)          # 569 TP53 genes\n",
    "print(\"\\n--------------------------\\n\")\n",
    "print(pathogenic_tp53)                 # 55 Pathogenic or Likely Pathogenic TP53\n",
    "print(\"\\n--------------------------\\n\")"
   ]
  },
  {
   "cell_type": "code",
   "execution_count": 40,
   "id": "040ed0e2-a335-4e81-9dd9-014bf82bbcc8",
   "metadata": {
    "scrolled": true
   },
   "outputs": [],
   "source": [
    "##########################################\n",
    "####### Sample-Level Summarisation #######\n",
    "##########################################\n",
    "def group_variants_sample(df):\n",
    "    grouped = df.groupby('Sample')\n",
    "\n",
    "    new_frame = grouped.apply(\n",
    "        lambda group: pd.Series({\n",
    "            'HG19_Variants': group['HG19_Variant'].tolist()\n",
    "        }), include_groups=False\n",
    "    ).reset_index()\n",
    "\n",
    "    return new_frame\n",
    "\n",
    "reduced_filtered_data = filtered_data[['Sample', 'HG19_Variant']]\n",
    "list_hg19_sample = group_variants_sample(reduced_filtered_data)"
   ]
  },
  {
   "cell_type": "code",
   "execution_count": 43,
   "id": "805f8aaa-51b4-45a1-8891-b7332b088298",
   "metadata": {
    "scrolled": true
   },
   "outputs": [],
   "source": [
    "def sample_level_summary(df):\n",
    "    # Convert relevant columns to sets for fast lookup\n",
    "    pathogenic_set = set(pathogenic_tp53['HG19_Variant'])\n",
    "    tp53_set = set(all_tp53_genes['HG19_Variant'])\n",
    "\n",
    "    def classify_row(variant_list):\n",
    "        if any(variant in pathogenic_set for variant in variant_list):\n",
    "            return \"Pathogenic\"\n",
    "        elif any(variant in tp53_set for variant in variant_list):\n",
    "            return \"Unknown\"\n",
    "        else:\n",
    "            return \"Not Pathogenic\"\n",
    "\n",
    "    df['Pathogenicity'] = df['HG19_Variants'].apply(classify_row)\n",
    "    return df\n",
    "\n",
    "value = sample_level_summary(list_hg19_sample)\n",
    "sample_level_df = value[['Sample',  'Pathogenicity']]"
   ]
  },
  {
   "cell_type": "code",
   "execution_count": 44,
   "id": "269aa909-aea6-41ef-b7d7-f14e3d6a0a7d",
   "metadata": {},
   "outputs": [
    {
     "name": "stdout",
     "output_type": "stream",
     "text": [
      "      Sample   Pathogenicity\n",
      "0     DO1000  Not Pathogenic\n",
      "1     DO1001      Pathogenic\n",
      "2     DO1002  Not Pathogenic\n",
      "3     DO1003  Not Pathogenic\n",
      "4     DO1004  Not Pathogenic\n",
      "...      ...             ...\n",
      "1777  DO7196  Not Pathogenic\n",
      "1778  DO7214  Not Pathogenic\n",
      "1779  DO7280  Not Pathogenic\n",
      "1780  DO7304  Not Pathogenic\n",
      "1781  DO7328  Not Pathogenic\n",
      "\n",
      "[1782 rows x 2 columns]\n"
     ]
    }
   ],
   "source": [
    "print(sample_level_df)"
   ]
  },
  {
   "cell_type": "markdown",
   "id": "7e5e82cb-da72-46f4-b20b-c9a4101f6563",
   "metadata": {},
   "source": [
    "Sample Level Data Frame: 1782 Samples\n",
    "\n",
    "        - 56 Pathogenic\n",
    "        - 1276 Benign\n",
    "        - 450 Unknown"
   ]
  },
  {
   "cell_type": "code",
   "execution_count": null,
   "id": "f7c28e8e-55e5-4c8b-be34-173b2ead8430",
   "metadata": {},
   "outputs": [],
   "source": []
  }
 ],
 "metadata": {
  "kernelspec": {
   "display_name": "Python 3 (ipykernel)",
   "language": "python",
   "name": "python3"
  },
  "language_info": {
   "codemirror_mode": {
    "name": "ipython",
    "version": 3
   },
   "file_extension": ".py",
   "mimetype": "text/x-python",
   "name": "python",
   "nbconvert_exporter": "python",
   "pygments_lexer": "ipython3",
   "version": "3.12.6"
  }
 },
 "nbformat": 4,
 "nbformat_minor": 5
}
